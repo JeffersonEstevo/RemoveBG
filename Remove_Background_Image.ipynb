{
  "nbformat": 4,
  "nbformat_minor": 0,
  "metadata": {
    "colab": {
      "provenance": [],
      "authorship_tag": "ABX9TyPJ3m/dB5w2COt48tkopC04"
    },
    "kernelspec": {
      "name": "python3",
      "display_name": "Python 3"
    },
    "language_info": {
      "name": "python"
    }
  },
  "cells": [
    {
      "cell_type": "code",
      "source": [
        "# !pip install rembg\n",
        "# !pip install --ignore-installed Pillow==9.0.0\n",
        "from rembg import remove\n",
        "from PIL import Image\n",
        "input_path = 'sample_data/a.jpg'\n",
        "output_path = 'sample_data/out.png'\n",
        "input = Image.open(input_path)\n",
        "output = remove(input)\n",
        "output.save(output_path)"
      ],
      "metadata": {
        "colab": {
          "base_uri": "https://localhost:8080/"
        },
        "id": "bL94ACz3A-sb",
        "outputId": "0980a79d-b8b4-484e-cb89-446a1b473560"
      },
      "execution_count": 2,
      "outputs": [
        {
          "output_type": "stream",
          "name": "stderr",
          "text": [
            "Downloading data from 'https://github.com/danielgatis/rembg/releases/download/v0.0.0/u2net.onnx' to file '/root/.u2net/u2net.onnx'.\n",
            "100%|███████████████████████████████████████| 176M/176M [00:00<00:00, 96.2GB/s]\n"
          ]
        }
      ]
    }
  ]
}